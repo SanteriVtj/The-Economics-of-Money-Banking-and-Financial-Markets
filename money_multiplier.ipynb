{
 "metadata": {
  "language_info": {
   "codemirror_mode": {
    "name": "ipython",
    "version": 3
   },
   "file_extension": ".py",
   "mimetype": "text/x-python",
   "name": "python",
   "nbconvert_exporter": "python",
   "pygments_lexer": "ipython3",
   "version": 3
  },
  "orig_nbformat": 2,
  "kernelspec": {
   "name": "python_defaultSpec_1597224678132",
   "display_name": "Python 3.8.3 64-bit ('base': conda)"
  }
 },
 "nbformat": 4,
 "nbformat_minor": 2,
 "cells": [
  {
   "cell_type": "code",
   "execution_count": 1,
   "metadata": {},
   "outputs": [],
   "source": [
    "import numpy as np\n",
    "import plotly.graph_objects as go"
   ]
  },
  {
   "cell_type": "code",
   "execution_count": 2,
   "metadata": {},
   "outputs": [],
   "source": [
    "def money_multiplier(c, e, rr):\n",
    "    return (1 + c) / (rr + e + c)"
   ]
  },
  {
   "cell_type": "code",
   "execution_count": 3,
   "metadata": {},
   "outputs": [],
   "source": [
    "def graph_rr():\n",
    "    x, y = np.linspace(.5, 2, 150), np.linspace(.5, 2, 150)\n",
    "    fig = go.Figure()\n",
    "\n",
    "    for i in np.arange(0, 1, 0.01):\n",
    "        fig.add_trace(\n",
    "            go.Surface(\n",
    "                visible=False,\n",
    "                x=x,\n",
    "                y=y,\n",
    "                # Setting mm matrixes as a function of money_multiplier() factor\n",
    "                z=np.array([[money_multiplier(c, e, i) for c in x] for e in y])\n",
    "            )\n",
    "        )\n",
    "\n",
    "    # Sets default required reserve ratio as 10%\n",
    "    fig.data[10].visible = True\n",
    "\n",
    "    steps = []\n",
    "    for i in range(len(fig.data)):\n",
    "        step = {\n",
    "            'method': 'update',\n",
    "            'args': [{'visible': [False] * len(fig.data)},\n",
    "            {'title': f'Required reserve ratio: {i}%'}]\n",
    "        }\n",
    "        step['args'][0]['visible'][i] = True\n",
    "        steps.append(step)\n",
    "\n",
    "    slider = [{\n",
    "                'active': 10,\n",
    "                'pad': {'t': 50},\n",
    "                'currentvalue': {'prefix': 'Required reserve multiplier-%: '},\n",
    "                'steps': steps\n",
    "            }]\n",
    "\n",
    "    fig.update_layout(autosize=False, \n",
    "                      width=1000, height = 1000,\n",
    "                      scene={\n",
    "                                 'xaxis_title': 'Currency ration',\n",
    "                                 'yaxis_title': 'Excess reserve ratio',\n",
    "                                 'zaxis_title': 'Money multiplier'\n",
    "                      },\n",
    "                      sliders=slider\n",
    "                      )\n",
    "    fig.show()"
   ]
  },
  {
   "cell_type": "code",
   "execution_count": null,
   "metadata": {},
   "outputs": [],
   "source": []
  }
 ]
}