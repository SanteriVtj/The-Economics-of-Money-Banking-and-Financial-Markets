{
 "metadata": {
  "language_info": {
   "codemirror_mode": {
    "name": "ipython",
    "version": 3
   },
   "file_extension": ".py",
   "mimetype": "text/x-python",
   "name": "python",
   "nbconvert_exporter": "python",
   "pygments_lexer": "ipython3",
   "version": "3.8.3-final"
  },
  "orig_nbformat": 2,
  "kernelspec": {
   "name": "python_defaultSpec_1598185925108",
   "display_name": "Python 3.8.3 64-bit ('base': conda)"
  }
 },
 "nbformat": 4,
 "nbformat_minor": 2,
 "cells": [
  {
   "cell_type": "code",
   "execution_count": 1,
   "metadata": {},
   "outputs": [],
   "source": [
    "import numpy as np\n",
    "import matplotlib.pyplot as plt\n",
    "plt.style.use('ggplot')"
   ]
  },
  {
   "cell_type": "code",
   "execution_count": 2,
   "metadata": {},
   "outputs": [],
   "source": [
    "def aggregate_demand(inflation, rate=.01, rate_resp=.5, C=1.4, I=1.2, G=3, T=3, NX=1.3, f=1, mpc=.6, d=.3, x=.1):\n",
    "    ''' Returns aggregate output in function to inflation '''\n",
    "    return (C + I - d + G + NX - mpc * T) * (1 / (1 - mpc)) - ((d + x) / (1 - mpc)) * (rate + rate_resp * inflation) * 100"
   ]
  },
  {
   "cell_type": "code",
   "execution_count": 3,
   "metadata": {},
   "outputs": [],
   "source": [
    "def mp(inflation, ex_rate=.01, rate_resp=.5):\n",
    "    ''' Returns real interestrate in function to inflation '''\n",
    "    return ex_rate + rate_resp * inflation"
   ]
  },
  {
   "cell_type": "code",
   "execution_count": 4,
   "metadata": {},
   "outputs": [],
   "source": [
    "def is_c(real_rate, C=1.4, I=1.2, G=3, T=3, NX=1.3, f=1, mpc=.6, d=.3, x=.1):\n",
    "    ''' Returns real interestrate in function to aggregate output '''\n",
    "    return (C + I - d + G + NX - mpc * T) * (1 / (1 - mpc)) - ((d + x) / (1 - mpc)) * real_rate * 100"
   ]
  },
  {
   "cell_type": "code",
   "execution_count": 5,
   "metadata": {},
   "outputs": [],
   "source": [
    "def shift_lras(potential_output_2, potential_output_1=10):\n",
    "    inflation_rate = np.linspace(0, .2, 41)\n",
    "    fig, ax = plt.subplots()\n",
    "    ax.set(xlabel='Aggregate output', ylabel='Inflation rate')\n",
    "    ax.plot([potential_output_1 for i in range(len(inflation_rate))], \n",
    "             inflation_rate, \n",
    "             linewidth=3, \n",
    "             color='blue')\n",
    "    ax.plot([potential_output_2 for i in range(len(inflation_rate))], \n",
    "             inflation_rate, \n",
    "             linewidth=3, \n",
    "             color='#cc2512')\n",
    "    plt.xlim([min(potential_output_1, potential_output_2) * .7, \n",
    "              max(potential_output_1, potential_output_2) * 1.2])\n",
    "    c = 'green' if potential_output_1 - potential_output_2 < 0 else 'red'\n",
    "    plt.arrow(potential_output_1, \n",
    "              inflation_rate[round(len(inflation_rate) / 2)], \n",
    "              abs(potential_output_1 - potential_output_2) - (.2 * abs(potential_output_1 - potential_output_2)), \n",
    "              0, \n",
    "              width=(max(inflation_rate) - min(inflation_rate)) * .03,\n",
    "              head_length=abs(potential_output_1 - potential_output_2) - (.8 * abs(potential_output_1 - potential_output_2)),\n",
    "              color=c)\n",
    "    return fig"
   ]
  },
  {
   "cell_type": "code",
   "execution_count": 6,
   "metadata": {
    "tags": []
   },
   "outputs": [],
   "source": [
    "def shift_mp(expected_inflation_2, expected_inflation_1=.01):\n",
    "    inflation_rate = np.linspace(0, max(expected_inflation_1, expected_inflation_2), 41)\n",
    "    fig, ax = plt.subplots()\n",
    "    ax.set(xlabel='Inflation rate', ylabel='Real interest rate')\n",
    "    ax.plot(inflation_rate, \n",
    "            mp(inflation_rate, ex_rate=expected_inflation_1),\n",
    "            color='blue')\n",
    "    ax.plot(inflation_rate,\n",
    "            mp(inflation_rate, expected_inflation_2),\n",
    "            color='#cc2512')\n",
    "    c = 'green' if expected_inflation_1 - expected_inflation_2 < 0 else 'red'\n",
    "    plt.arrow(inflation_rate[round(len(inflation_rate) / 2)],\n",
    "              mp(inflation_rate[round(len(inflation_rate) / 2)], expected_inflation_1),\n",
    "              0,\n",
    "              (mp(inflation_rate[round(len(inflation_rate) / 2)], expected_inflation_2) - mp(inflation_rate[round(len(inflation_rate) / 2)])) * .75,\n",
    "              width=(max(inflation_rate) - min(inflation_rate)) * .03,\n",
    "              head_length=abs(expected_inflation_2 - expected_inflation_1) - (.8 * abs(expected_inflation_1 - expected_inflation_2)),\n",
    "              color=c)\n",
    "    return fig"
   ]
  },
  {
   "cell_type": "code",
   "execution_count": 7,
   "metadata": {
    "tags": []
   },
   "outputs": [],
   "source": [
    "def shift_is(C=1.4, I=1.2, G=3, T=3, NX=1.3, f=1, mpc=.6, d=.3, x=.1):\n",
    "    real_interest = np.linspace(0, .15, 31)\n",
    "    fig, ax = plt.subplots()\n",
    "    ax.set(xlabel='Aggregate output', ylabel='Real interest rate')\n",
    "    n_curve = is_c(real_interest)\n",
    "    c_curve = is_c(real_interest, C, I, G, T, NX, f, mpc, d, x)\n",
    "    plt.xlim([0, max(n_curve[0], c_curve[0])])\n",
    "    ax.plot(n_curve, \n",
    "            real_interest,\n",
    "            color='blue')\n",
    "    ax.plot(c_curve,\n",
    "            real_interest,\n",
    "            color='#cc2512')\n",
    "    c = 'green' if n_curve[0] - c_curve[0] < 0 else 'red'\n",
    "    plt.arrow(n_curve[round(len(n_curve) / 2)],\n",
    "                real_interest[round(len(real_interest) / 2)],\n",
    "                C - 1.4,\n",
    "                0,\n",
    "                width=(max(real_interest) - min(real_interest)) * .03,\n",
    "                head_length=abs(C - 1.4) * .8,\n",
    "                color=c)\n",
    "    return fig"
   ]
  },
  {
   "cell_type": "code",
   "execution_count": 35,
   "metadata": {
    "tags": []
   },
   "outputs": [],
   "source": [
    "def shift_ad(rate=.01, rate_resp=.5, C=1.4, I=1.2, G=3, T=3, NX=1.3, f=1, mpc=.6, d=.3, x=.1):\n",
    "    inflation_rate = np.linspace(0, .2, 41)\n",
    "    fig, ax = plt.subplots()\n",
    "    ax.set(xlabel='Aggregate output', ylabel='Inflation rate')\n",
    "    ax.plot(aggregate_demand(inflation_rate), \n",
    "            inflation_rate,\n",
    "            color='blue')\n",
    "    ax.plot(aggregate_demand(inflation_rate, rate=rate), \n",
    "            inflation_rate,\n",
    "            color='#cc2512')\n",
    "    c = 'green' if aggregate_demand(inflation_rate[0]) - aggregate_demand(inflation_rate[0], rate=rate) < 0 else 'red'\n",
    "    plt.arrow(aggregate_demand(inflation_rate[round(len(aggregate_demand(inflation_rate)) / 2)]),\n",
    "             inflation_rate[round(len(inflation_rate) / 2)],\n",
    "             (aggregate_demand(inflation_rate[0], rate=rate) - aggregate_demand(inflation_rate[0])) * .75,\n",
    "             0,\n",
    "             width=(max(inflation_rate) - min(inflation_rate)) * .03,\n",
    "             head_length=abs(aggregate_demand(inflation_rate[0], rate=rate) - aggregate_demand(inflation_rate[0])) * .2,\n",
    "             color=c)\n",
    "    return fig"
   ]
  },
  {
   "cell_type": "code",
   "execution_count": null,
   "metadata": {},
   "outputs": [],
   "source": []
  }
 ]
}