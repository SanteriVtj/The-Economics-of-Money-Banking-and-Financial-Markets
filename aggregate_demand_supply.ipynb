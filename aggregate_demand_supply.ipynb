{
 "metadata": {
  "language_info": {
   "codemirror_mode": {
    "name": "ipython",
    "version": 3
   },
   "file_extension": ".py",
   "mimetype": "text/x-python",
   "name": "python",
   "nbconvert_exporter": "python",
   "pygments_lexer": "ipython3",
   "version": "3.8.3-final"
  },
  "orig_nbformat": 2,
  "kernelspec": {
   "name": "python_defaultSpec_1597985912664",
   "display_name": "Python 3.8.3 64-bit ('base': conda)"
  }
 },
 "nbformat": 4,
 "nbformat_minor": 2,
 "cells": [
  {
   "cell_type": "code",
   "execution_count": 20,
   "metadata": {},
   "outputs": [],
   "source": [
    "import numpy as np\n",
    "import matplotlib.pyplot as plt"
   ]
  },
  {
   "cell_type": "code",
   "execution_count": 12,
   "metadata": {},
   "outputs": [],
   "source": [
    "def aggregate_demand(inflation, ao=10, rate_resp=.5):\n",
    "    ''' Returns aggregate output in function to inflation '''\n",
    "    return inflation * rate_resp + ao"
   ]
  },
  {
   "cell_type": "code",
   "execution_count": 11,
   "metadata": {},
   "outputs": [],
   "source": [
    "def mp(inflation, ex_rate=1, rate_resp=.5):\n",
    "    ''' Returns real interestrate in function to inflation '''\n",
    "    return inflation * ex_rate + rate_resp"
   ]
  },
  {
   "cell_type": "code",
   "execution_count": 18,
   "metadata": {},
   "outputs": [],
   "source": [
    "def is_c(real_rate, C=1.4, I=1.2, G=3, T=3, NX=1.3, f=1, mpc=.6, d=.3, x=.1):\n",
    "    ''' Returns real interestrate in function to aggregate output '''\n",
    "    return (C + I - d + G + NX - mpc * T) * (1 / (1 - mpc)) - ((d + x) / (1 - mpc)) * real_rate"
   ]
  },
  {
   "cell_type": "code",
   "execution_count": 19,
   "metadata": {},
   "outputs": [],
   "source": [
    "def lras(ex_inflation, sensitivity=.5, gap=0, shock=0):\n",
    "    ''' Returns long term aggregate supply curve relative to inflation rate and aggregate output '''\n",
    "    return ex_inflation + sensitivity * gap + shock"
   ]
  },
  {
   "cell_type": "code",
   "execution_count": 21,
   "metadata": {},
   "outputs": [
    {
     "output_type": "error",
     "ename": "SyntaxError",
     "evalue": "non-default argument follows default argument (<ipython-input-21-eff8259ef04b>, line 1)",
     "traceback": [
      "\u001b[0;36m  File \u001b[0;32m\"<ipython-input-21-eff8259ef04b>\"\u001b[0;36m, line \u001b[0;32m1\u001b[0m\n\u001b[0;31m    def shift_lras(ex_inflation_1, sensitivity_1=.5, gap_1=0, shock_1=0, ex_inflation_2, sensitivity_2=.5, gap_2=0, shock_2=0):\u001b[0m\n\u001b[0m                   ^\u001b[0m\n\u001b[0;31mSyntaxError\u001b[0m\u001b[0;31m:\u001b[0m non-default argument follows default argument\n"
     ]
    }
   ],
   "source": [
    "def shift_lras(ex_inflation_1, ex_inflation_2, sensitivity_1=.5, gap_1=0, shock_1=0, sensitivity_2=.5, gap_2=0, shock_2=0):\n",
    "    x1 = lras(ex_inflation_1, sensitivity_1, gap_1, shock_1)\n",
    "    x2 = lras(ex_inflation_2, sensitivity_2, gap_2, shock_2)\n",
    "    fig, x = plt.subplot()\n",
    "    ax.plot(x2)\n",
    "    ax.plot(x2)\n",
    "    return fig"
   ]
  },
  {
   "cell_type": "code",
   "execution_count": null,
   "metadata": {},
   "outputs": [],
   "source": []
  }
 ]
}