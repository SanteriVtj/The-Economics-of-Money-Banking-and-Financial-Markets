{
 "metadata": {
  "language_info": {
   "codemirror_mode": {
    "name": "ipython",
    "version": 3
   },
   "file_extension": ".py",
   "mimetype": "text/x-python",
   "name": "python",
   "nbconvert_exporter": "python",
   "pygments_lexer": "ipython3",
   "version": "3.8.3-final"
  },
  "orig_nbformat": 2,
  "kernelspec": {
   "name": "python_defaultSpec_1597985912664",
   "display_name": "Python 3.8.3 64-bit ('base': conda)"
  }
 },
 "nbformat": 4,
 "nbformat_minor": 2,
 "cells": [
  {
   "cell_type": "code",
   "execution_count": 112,
   "metadata": {},
   "outputs": [],
   "source": [
    "import numpy as np\n",
    "import matplotlib.pyplot as plt\n",
    "plt.style.use('ggplot')"
   ]
  },
  {
   "cell_type": "code",
   "execution_count": 12,
   "metadata": {},
   "outputs": [],
   "source": [
    "def aggregate_demand(inflation, ao=10, rate_resp=.5):\n",
    "    ''' Returns aggregate output in function to inflation '''\n",
    "    return inflation * rate_resp + ao"
   ]
  },
  {
   "cell_type": "code",
   "execution_count": 11,
   "metadata": {},
   "outputs": [],
   "source": [
    "def mp(inflation, ex_rate=1, rate_resp=.5):\n",
    "    ''' Returns real interestrate in function to inflation '''\n",
    "    return inflation * ex_rate + rate_resp"
   ]
  },
  {
   "cell_type": "code",
   "execution_count": 18,
   "metadata": {},
   "outputs": [],
   "source": [
    "def is_c(real_rate, C=1.4, I=1.2, G=3, T=3, NX=1.3, f=1, mpc=.6, d=.3, x=.1):\n",
    "    ''' Returns real interestrate in function to aggregate output '''\n",
    "    return (C + I - d + G + NX - mpc * T) * (1 / (1 - mpc)) - ((d + x) / (1 - mpc)) * real_rate"
   ]
  },
  {
   "cell_type": "code",
   "execution_count": 124,
   "metadata": {},
   "outputs": [],
   "source": [
    "def shift_lras(potential_output_2, potential_output_1=10):\n",
    "    inflation_rate = np.linspace(0, .2, 41)\n",
    "    fig, ax = plt.subplots()\n",
    "    ax.plot([potential_output_1 for i in range(len(inflation_rate))], inflation_rate, linewidth=3, color='blue')\n",
    "    ax.plot([potential_output_2 for i in range(len(inflation_rate))], inflation_rate, linewidth=3, color='#a85432')\n",
    "    plt.xlim([min(potential_output_1, potential_output_2) * .7, max(potential_output_1, potential_output_2) * 1.2])\n",
    "    c = 'green' if potential_output_1 - potential_output_2 < 0 else 'red'\n",
    "    plt.arrow(potential_output_1, inflation_rate[round(len(inflation_rate) / 2)], \n",
    "              abs(potential_output_1 - potential_output_2) - (.2 * abs(potential_output_1 - potential_output_2)), \n",
    "              0, width=(max(inflation_rate) - min(inflation_rate)) * .03,\n",
    "              head_length=abs(potential_output_1 - potential_output_2) - (.8 * abs(potential_output_1 - potential_output_2)),\n",
    "              color=c)\n",
    "    return fig"
   ]
  },
  {
   "cell_type": "code",
   "execution_count": null,
   "metadata": {},
   "outputs": [],
   "source": []
  }
 ]
}